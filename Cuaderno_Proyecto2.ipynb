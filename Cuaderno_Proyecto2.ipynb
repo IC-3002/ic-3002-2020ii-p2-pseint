{
 "cells": [
  {
   "cell_type": "markdown",
   "metadata": {},
   "source": [
    "# Proyecto 2 - Algoritmo del Vendedor Viajero\n"
   ]
  },
  {
   "cell_type": "markdown",
   "metadata": {},
   "source": [
    "## $\\color{blue}{\\text{1. Pregunta de Investigación:}}$\n",
    "\n",
    "¿Cómo se compara el desempeño del algoritmo simulated annealing con el desempeño del algoritmo genético en la resolución del problema del vendedor viajero para 17 localidades en Costa Rica?\n",
    "\n",
    "## $\\color{blue}{\\text{2. Problema:}}$\n",
    "\n",
    "El problema del vendedor viajero se trata de crear un algoritmo que busque la ruta más óptima entre una cantidad *\"n\"* de ciudades visitando cada ciudad exactamente una vez y finalizando la ruta en la ciudad donde comenzo. Se utilizarán dos métodos de algoritmos diferentes , el primero será un algoritmo de simulated annealing y el segundo un algoritmo genético.\n",
    "\n",
    "### $\\color{blue}{\\text{Alcances y Delimitaciones:}}$\n",
    "\n",
    "\n",
    "### $\\color{blue}{\\text{Hipótesis:}}$\n",
    "*  Al realizar estudios sobre algoritmos metaheurísticos como lo son el simulated annealing (enfriamiento simuldo en español) y algoritmos genéticos es importante generar un balance entre la intensidad de las búsquedas así como la diversificacion que estas pueden tener, es decir, se debe encontrar un resultado con un equilibrio entre la cantidad de esfuerzo realizado para búsquedas locales y globales. Esto con el fin de encontrar regiones con soluciones favorables y no malgastar tiempo en regiones no tan prometedoras o ya exploradas.\n",
    "\n",
    "\n",
    "\n",
    "## $\\color{blue}{\\text{3. Metodología:}}$\n",
    "Para analizar estos diferentes algoritmos probabilísticos se estudiarán los casos teóricos y empíricos de cada uno de ellos.\n",
    "\n",
    "\n",
    "### $\\color{blue}{\\text{Procedimiento a Seguir:}}$\n",
    "Sobre cada uno de los algoritmos se realizarán una serie de pruebas empíricas que nos permitan estudiarlos debidamente y analizarlos junto con los datos teóricos existentes. Para cada una de estas pruebas se graficará la curva de comportamiento de cada una de las pruebas. Estos experimentos se especifican a continuación:\n",
    "\n",
    "\n",
    "####  $\\color{blue}{\\text{→  Experimento 1:}}$\n",
    "* Se procederá a realizar una comparación entre el tiempo de ejecución y cantidad de soluciones encontradas por el algoritmo, estableciendo topes para cantidad de soluciones para cada ejecución. Asimismo se clasificará la calidad de estas soluciones (excelentes, buenas, aceptables o malas). Se ejecutarán pruebas con 10, 30 y 50 soluciones.\n",
    "\n",
    "####  $\\color{blue}{\\text{→  Experimento 2:}}$\n",
    "* Posteriormente, se continuará con analizar la cantidad de parámetros necesarios para que los algoritmos de enfriamiento simulado y algoritmo genético funcionen de la mejor manera. Para ello, se definirán diferentes rangos de parámetros y se estudiará el tiempo que demora en encontrar soluciones con dichas cantidades de parámetros.\n",
    "\n",
    "### $\\color{blue}{\\text{Especificaciones del equipo:}}$\n",
    "\n",
    "Adicionalmente, como bien es sabido, existen una gran cantidad de factores que afectan el rendimiento de cada algoritmo, como lo es, por ejemplo, los recursos disponibles que tenga la máquina para el estudio, compilador e inclusive el lenguaje de programación de estos algoritmos. Es por ello que es importante detallar las especificaciones que estas tienen, y en este caso son las siguientes: \n",
    "\n",
    "    -Lenguaje de Programación: Python 3.  \n",
    "    -Compilador: Jupyter Python.  \n",
    "    -Procesador: Intel Core i7 de 4ta Generación.  \n",
    "    -Sistema Operativo: Ubuntu Linux 18.04.5 LTS de 64 bits.  \n",
    "    -Memoria RAM: 32 Gb.  \n"
   ]
  },
  {
   "cell_type": "markdown",
   "metadata": {},
   "source": [
    "### $\\color{blue}{\\text{Representación:}}$\n",
    "Para la graficación de los resultados vamos a utilizar la biblioteca matplotlib.\n"
   ]
  },
  {
   "cell_type": "code",
   "execution_count": 7,
   "metadata": {},
   "outputs": [],
   "source": [
    "from math import log\n",
    "\n",
    "xs = range(1, 100)\n",
    "ys_1 = [x ** 2.01 for x in xs]\n",
    "ys_2 = [x ** 2 for x in xs]"
   ]
  },
  {
   "cell_type": "code",
   "execution_count": 8,
   "metadata": {
    "scrolled": true
   },
   "outputs": [
    {
     "data": {
      "image/png": "[encoded data removed]",
      "text/plain": [
       "<Figure size 432x288 with 1 Axes>"
      ]
     },
     "metadata": {
      "needs_background": "light"
     },
     "output_type": "display_data"
    }
   ],
   "source": [
    "import matplotlib.pyplot as plt\n",
    "\n",
    "plt.plot(xs, ys_1, label = 'Resultados empiricos')\n",
    "plt.plot(xs, ys_2, label = 'Resultados teoricos')\n",
    "plt.ylabel('Tamaño')\n",
    "plt.xlabel('Tiempo')\n",
    "plt.legend(loc = 2)\n",
    "plt.show()"
   ]
  },
  {
   "cell_type": "markdown",
   "metadata": {},
   "source": [
    "El gráfico anterior solo es una representación no significativa de los graficos y comparaciones que vamos a estar haciendo durante este análisis. "
   ]
  },
  {
   "cell_type": "markdown",
   "metadata": {},
   "source": [
    "### $\\color{ForestGreen}{\\text{Algoritmos a Utilizar:}}$\n",
    "A continuación se muestra al detalle los algoritmos que se van a utilizar para estas pruebas.\n",
    "\n",
    "\n",
    "### $\\color{ForestGreen}{\\text{✰- Algoritmo Genético:}}$"
   ]
  },
  {
   "cell_type": "code",
   "execution_count": 9,
   "metadata": {},
   "outputs": [],
   "source": [
    "import random as rand\n",
    "\n",
    "def optimizar(dominio, tam_pobl, porc_elite, prob_mut, reps):\n",
    "    \"\"\"Algoritmo genetico para optimizacion estocoastica.\"\"\"\n",
    "\n",
    "    poblacion = dominio.generar_n(tam_pobl)\n",
    "    \n",
    "    while reps > 0:\n",
    "\n",
    "        genomas = []\n",
    "        for sol in poblacion:                       \n",
    "            aptitud = dominio.fcosto(sol)\n",
    "            genoma = (sol, aptitud)\n",
    "            genomas.append(genoma)\n",
    "\n",
    "        genomas.sort(key=lambda x: x[1])\n",
    "\n",
    "        for i in range(len(genomas)):\n",
    "            poblacion[i] = genomas[i][0]\n",
    "\n",
    "        num_padres = int(len(poblacion) * porc_elite)\n",
    "        num_hijos = int(len(poblacion) - num_padres)\n",
    "        sig_gen = poblacion[0:num_padres]\n",
    "        descendencia = []\n",
    "\n",
    "        while num_hijos > 0:\n",
    "            \n",
    "            x = rand.randrange(0, len(sig_gen))\n",
    "            y = rand.randrange(0, len(sig_gen))\n",
    "\n",
    "            while x == y:\n",
    "\n",
    "                x = rand.randrange(0, len(sig_gen))\n",
    "                y = rand.randrange(0, len(sig_gen))\n",
    "\n",
    "            padre_a = sig_gen[x]\n",
    "            padre_b = sig_gen[y]\n",
    "\n",
    "            hijo = dominio.cruzar(padre_a, padre_b)\n",
    "            p = rand.uniform(0, 1)\n",
    "\n",
    "            if p <= prob_mut:\n",
    "                hijo = dominio.mutar(hijo)\n",
    "            descendencia.append(hijo)\n",
    "            num_hijos = num_hijos - 1\n",
    "\n",
    "        \n",
    "        sig_gen += descendencia\n",
    "        poblacion = sig_gen\n",
    "        reps = reps - 1\n",
    "\n",
    "    return poblacion[0]"
   ]
  },
  {
   "cell_type": "markdown",
   "metadata": {},
   "source": [
    "### $\\color{ForestGreen}{\\text{✰- Enfriamiento Simulado:}}$"
   ]
  },
  {
   "cell_type": "code",
   "execution_count": 13,
   "metadata": {},
   "outputs": [],
   "source": [
    "import math\n",
    "import random\n",
    "\n",
    "\n",
    "def optimizar(dominio, temperatura = 10e32, tasa_enfriamiento = 0.95):\n",
    "    \"\"\"Algoritmo de optimizacion estocastica simulated annealing. \"\"\"\n",
    "\n",
    "    solucion = dominio.generar()                                    #genera una solucion al azar\n",
    "    costo = dominio.fcosto(solucion)                                #se calcula el costo de dicha solucion\n",
    "    \n",
    "    while temperatura > 0.01:\n",
    "        \n",
    "        solucionP = dominio.vecino(solucion)                        #genera una solucion vecina al azar\n",
    "        costoP = dominio.fcosto(solucionP)                          #se calcula el costo de la solucion vecina\n",
    "\n",
    "        p = (math.exp(-(abs(costoP-costo))) ) / temperatura         #math.exp eleva E a la potencia indicada\n",
    "                                                                    #abs = valor absoluto\n",
    "        pAzar = random.uniform(0,1)                                 #random.uniform retorna un valor intermedio entre 0 y 1 \n",
    "                                                                    #de distribucion uniforme\n",
    "        \n",
    "        if costoP<costo or pAzar<=p:\n",
    "            solucion = solucionP\n",
    "            costo = costoP\n",
    "        \n",
    "        temperatura= temperatura * tasa_enfriamiento\n",
    "    \n",
    "    return solucion"
   ]
  },
  {
   "cell_type": "markdown",
   "metadata": {},
   "source": [
    "Antes de empezar con la reproducción de experimentos vamos a importar algunas funciones necesarias para ejecutar las pruebas y los algoritmos que vamos a usar:"
   ]
  },
  {
   "cell_type": "code",
   "execution_count": 16,
   "metadata": {},
   "outputs": [],
   "source": [
    "import dominio_ag\n",
    "\n",
    "import levenshtein\n",
    "\n",
    "import random as rand\n",
    "\n",
    "import unittest\n",
    "\n",
    "import algoritmo_genetico_test as AGTest\n",
    "\n",
    "import simulated_annealing_test as SATest\n",
    "\n",
    "from abc import ABC\n",
    "\n",
    "from abc import abstractmethod\n",
    "\n",
    "from abc import abstractclassmethod\n",
    "\n",
    "from dominio import Dominio\n",
    "\n",
    "from math import log\n",
    "\n",
    "import matplotlib.pyplot as plt"
   ]
  },
  {
   "cell_type": "markdown",
   "metadata": {},
   "source": [
    "### $\\color{ForestGreen}{\\text{Reproducción de Experimentos:}}$\n",
    "\n",
    "\n",
    "### $\\color{ForestGreen}{\\text{Experimento #1:}}$\n",
    "* Se comparará el tiempo de ejecución y cantidad de soluciones encontradas por cada algoritmo, estableciendo topes para cantidad de soluciones para cada ejecución. Asimismo se clasificará la calidad de estas soluciones (excelentes, buenas, aceptables o malas). Se ejecutarán pruebas con 10, 30 y 50 soluciones.\n",
    "\n",
    "    ### $\\color{ForestGreen}{\\text{ → Algoritmo Genético:}}$\n",
    "    #### Experimento 1A: 10 soluciones "
   ]
  },
  {
   "cell_type": "code",
   "execution_count": null,
   "metadata": {},
   "outputs": [],
   "source": [
    "clase, datos_1_AG_exp_1A = big_o(alg.quicksort, \n",
    "                     gen.generar_aleatorio,\n",
    "                     min_n=1, max_n=100,\n",
    "                     n_measures=100, n_repeats=5,\n",
    "                     verbose=False, return_raw_data=True,\n",
    "                     classes=[cls.Linearithmic])"
   ]
  },
  {
   "cell_type": "markdown",
   "metadata": {},
   "source": [
    "### $\\color{blue}{\\text{ 4. Análisis de Resultados:}}$\n",
    "\n",
    "\n",
    "### $\\color{blue}{\\text{ 5. Conclusiones:}}$"
   ]
  }
 ],
 "metadata": {
  "kernelspec": {
   "display_name": "Python 3",
   "language": "python",
   "name": "python3"
  },
  "language_info": {
   "codemirror_mode": {
    "name": "ipython",
    "version": 3
   },
   "file_extension": ".py",
   "mimetype": "text/x-python",
   "name": "python",
   "nbconvert_exporter": "python",
   "pygments_lexer": "ipython3",
   "version": "3.6.9"
  }
 },
 "nbformat": 4,
 "nbformat_minor": 4
}
