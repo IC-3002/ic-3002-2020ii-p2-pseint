{
 "cells": [
  {
   "cell_type": "markdown",
   "metadata": {},
   "source": [
    "# Proyecto 2 - Algoritmo del Vendedor Viajero\n"
   ]
  },
  {
   "cell_type": "markdown",
   "metadata": {},
   "source": [
    "## 1. Pregunta De Investigación\n",
    "\n",
    "¿Cómo se compara el desempeño del algoritmo simulated annealing con el desempeño del algoritmo genético en la resolución del problema del vendedor viajero para 17 localidades en Costa Rica?\n",
    "\n",
    "## 2. Problema \n",
    "\n",
    "El problema del vendedor viajero se trata de crear un algoritmo que busque la ruta mas optima entre n cantidades de ciudades visitando cada ciudad exactamente una vez y finalizando la ruta en la ciudad donde comenzo. Se utilizaran dos metodos de algoritmos diferentes , el primero será un algoritmo de simulated annealing y el segundo un algoritmo genético.\n",
    "\n",
    "### Alcances y delimitaciones\n",
    "\n",
    "\n",
    "### Hipotesis\n",
    "\n",
    "\n",
    "## 3. Metodologia\n",
    "\n",
    "### Procedimiento a seguir \n",
    "\n",
    "## 4. Análisis de Resultados\n",
    "\n",
    "## 5. Conclusiones\n"
   ]
  }
 ],
 "metadata": {
  "kernelspec": {
   "display_name": "Python 3",
   "language": "python",
   "name": "python3"
  },
  "language_info": {
   "codemirror_mode": {
    "name": "ipython",
    "version": 3
   },
   "file_extension": ".py",
   "mimetype": "text/x-python",
   "name": "python",
   "nbconvert_exporter": "python",
   "pygments_lexer": "ipython3",
   "version": "3.8.5"
  }
 },
 "nbformat": 4,
 "nbformat_minor": 4
}
